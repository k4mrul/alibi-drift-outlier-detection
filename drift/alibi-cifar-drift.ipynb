{
 "cells": [
  {
   "cell_type": "markdown",
   "id": "892b62ac-a119-44a6-9f14-cc2cc6e0db8e",
   "metadata": {},
   "source": [
    "# Drift detection with alibi-detect"
   ]
  },
  {
   "cell_type": "markdown",
   "id": "eb10a751-40ff-4424-b11d-f279d69c2bfa",
   "metadata": {},
   "source": [
    "# Cifar10 Drift Detection\n",
    "\n",
    "In this example we will deploy an image classification model along with a drift detector trained on the same dataset. For in depth details on creating a drift detection model for your own dataset see the [alibi-detect project](https://github.com/SeldonIO/alibi-detect) and associated [documentation](https://docs.seldon.io/projects/alibi-detect/en/latest/). You can find details for this [CIFAR10 example in their documentation](https://docs.seldon.io/projects/alibi-detect/en/latest/examples/cd_ks_cifar10.html) as well.\n",
    "\n",
    "Prequisites:\n",
    "\n",
    " * Running cluster with \n",
    "    * [kfserving installed](https://github.com/kubeflow/kfserving/blob/master/README.md)\n",
    "    * [Knative eventing installed](https://knative.dev/docs/install/) >= 0.18\n",
    "      \n"
   ]
  },
  {
   "cell_type": "markdown",
   "id": "b886db91-dd3d-4fcf-aeb0-61a00b975c99",
   "metadata": {},
   "source": [
    "## You need python 3.11 for this!"
   ]
  },
  {
   "cell_type": "code",
   "execution_count": null,
   "id": "22fa6258-c9a6-4356-8a02-cb33cd106f4f",
   "metadata": {},
   "outputs": [],
   "source": [
    "# !pip install -r ../requirements_notebook.txt"
   ]
  },
  {
   "cell_type": "code",
   "execution_count": null,
   "id": "b431429a-770c-4c19-9c6a-cda90f23a8bf",
   "metadata": {},
   "outputs": [],
   "source": [
    "!kubectl create namespace cifar10"
   ]
  },
  {
   "cell_type": "code",
   "execution_count": null,
   "id": "5aeb5eab-2789-4239-a4fb-ec74b61a2f3d",
   "metadata": {},
   "outputs": [],
   "source": [
    "%%writefile 01.broker.yaml\n",
    "apiVersion: eventing.knative.dev/v1\n",
    "kind: broker\n",
    "metadata:\n",
    " name: default\n",
    " namespace: cifar10"
   ]
  },
  {
   "cell_type": "code",
   "execution_count": null,
   "id": "ef21fcd5-c655-4238-b59f-e8822e5e0299",
   "metadata": {},
   "outputs": [],
   "source": [
    "!kubectl create -f 01.broker.yaml"
   ]
  },
  {
   "cell_type": "code",
   "execution_count": null,
   "id": "6a0c67dc-aaa6-4ddf-a4d6-4e2e4391a014",
   "metadata": {},
   "outputs": [],
   "source": [
    "%%writefile 02.event-display.yaml\n",
    "apiVersion: apps/v1\n",
    "kind: Deployment\n",
    "metadata:\n",
    "  name: hello-display\n",
    "  namespace: cifar10\n",
    "spec:\n",
    "  replicas: 1\n",
    "  selector:\n",
    "    matchLabels: &labels\n",
    "      app: hello-display\n",
    "  template:\n",
    "    metadata:\n",
    "      labels: *labels\n",
    "    spec:\n",
    "      containers:\n",
    "        - name: event-display\n",
    "          image: gcr.io/knative-releases/knative.dev/eventing-contrib/cmd/event_display\n",
    "\n",
    "---\n",
    "\n",
    "kind: Service\n",
    "apiVersion: v1\n",
    "metadata:\n",
    "  name: hello-display\n",
    "  namespace: cifar10\n",
    "spec:\n",
    "  selector:\n",
    "    app: hello-display\n",
    "  ports:\n",
    "  - protocol: TCP\n",
    "    port: 80\n",
    "    targetPort: 8080"
   ]
  },
  {
   "cell_type": "code",
   "execution_count": null,
   "id": "10a50dcb-d253-417f-9a98-3356e0538f38",
   "metadata": {},
   "outputs": [],
   "source": [
    "!kubectl apply -f 02.event-display.yaml"
   ]
  },
  {
   "cell_type": "code",
   "execution_count": 20,
   "id": "749e5632-65e2-4d5b-ae0d-1e7c03626e68",
   "metadata": {},
   "outputs": [
    {
     "name": "stdout",
     "output_type": "stream",
     "text": [
      "Overwriting 03.cifar10.yaml\n"
     ]
    }
   ],
   "source": [
    "%%writefile 03.cifar10.yaml\n",
    "apiVersion: \"serving.kserve.io/v1beta1\"\n",
    "kind: \"InferenceService\"\n",
    "metadata:\n",
    "  name: \"tfserving-cifar10\"\n",
    "  namespace: cifar10\n",
    "  annotations:\n",
    "    sidecar.istio.io/inject: \"false\"\n",
    "spec:\n",
    "  predictor:\n",
    "    tensorflow:\n",
    "      storageUri: \"gs://seldon-models/tfserving/cifar10/resnet32\"\n",
    "    logger:\n",
    "      mode: all\n",
    "      url: http://broker-ingress.knative-eventing.svc.cluster.local/cifar10/default"
   ]
  },
  {
   "cell_type": "code",
   "execution_count": null,
   "id": "98c64610-d4c3-4083-bf0e-708bb245fb94",
   "metadata": {},
   "outputs": [],
   "source": [
    "!kubectl apply -f 03.cifar10.yaml"
   ]
  },
  {
   "cell_type": "code",
   "execution_count": null,
   "id": "57c81cb8-68e4-42d6-8616-61e8c8e2df7c",
   "metadata": {},
   "outputs": [],
   "source": [
    "%%writefile 04.cifar10cd.yaml\n",
    "\n",
    "# Native Knative Service (aka ksvc), deploy any container, not just ML models.\n",
    "# Purpose: Deploy any container, not just ML models.\n",
    "\n",
    "# Gives you:\n",
    "# Serverless autoscaling\n",
    "# Revision management\n",
    "# Traffic splitting\n",
    "\n",
    "# URL generation (http://<service>.<namespace>.<domain>)\n",
    "\n",
    "# Your cifar10cd.yaml uses Knative Service directly to deploy the Alibi Drift Detector container.\n",
    "# This bypasses KServe and is just a plain Knative deployment.\n",
    "\n",
    "apiVersion: serving.knative.dev/v1\n",
    "kind: Service \n",
    "metadata:\n",
    "  name: drift-detector\n",
    "  namespace: cifar10\n",
    "spec:\n",
    "  template:\n",
    "    metadata:\n",
    "      annotations:\n",
    "        autoscaling.knative.dev/minScale: \"1\"\n",
    "    spec:\n",
    "      containers:\n",
    "      - image: seldonio/alibi-detect-server:0.0.2\n",
    "        imagePullPolicy: IfNotPresent\n",
    "        args:\n",
    "        - --model_name\n",
    "        - cifar10cd\n",
    "        - --http_port\n",
    "        - '8080'\n",
    "        - --protocol\n",
    "        - tensorflow.http\n",
    "        - --storage_uri\n",
    "        - gs://seldon-models/alibi-detect/cd/ks/cifar10\n",
    "        - --reply_url\n",
    "        - http://hello-display.cifar10\n",
    "        - --event_type\n",
    "        - org.kubeflow.serving.inference.outlier\n",
    "        - --event_source\n",
    "        - org.kubeflow.serving.cifar10cd\n",
    "        - DriftDetector\n",
    "        - --drift_batch_size\n",
    "        - '5000'"
   ]
  },
  {
   "cell_type": "code",
   "execution_count": null,
   "id": "b7796669-84b0-41b2-987d-0997c1e39f23",
   "metadata": {},
   "outputs": [],
   "source": [
    "!kubectl apply -f 04.cifar10cd.yaml"
   ]
  },
  {
   "cell_type": "code",
   "execution_count": null,
   "id": "1361851e-a665-419c-981c-ce2646a3a706",
   "metadata": {},
   "outputs": [],
   "source": [
    "%%writefile 05.trigger.yaml\n",
    "apiVersion: eventing.knative.dev/v1\n",
    "kind: Trigger\n",
    "metadata:\n",
    "  name: drift-trigger\n",
    "  namespace: cifar10\n",
    "spec:\n",
    "  broker: default\n",
    "  filter:\n",
    "    attributes:\n",
    "      type: org.kubeflow.serving.inference.request\n",
    "  subscriber:\n",
    "    ref:\n",
    "      apiVersion: serving.knative.dev/v1\n",
    "      kind: Service\n",
    "      name: drift-detector\n",
    "      namespace: cifar10"
   ]
  },
  {
   "cell_type": "code",
   "execution_count": null,
   "id": "88d8f803-b565-45a8-b1cf-fb4bcd92ff29",
   "metadata": {},
   "outputs": [],
   "source": [
    "!kubectl apply -f 05.trigger.yaml"
   ]
  },
  {
   "cell_type": "code",
   "execution_count": null,
   "id": "92197452-e33a-4146-a7c4-a3de3af30480",
   "metadata": {},
   "outputs": [],
   "source": [
    "#Run this on terminal:  kubectl port-forward --namespace istio-system svc/istio-ingressgateway 8080:80 --address 0.0.0.0"
   ]
  },
  {
   "cell_type": "code",
   "execution_count": 1,
   "id": "8a81b8f5-8f86-4a97-a2b7-cc030b4b9de3",
   "metadata": {},
   "outputs": [],
   "source": [
    "CLUSTER_IP=\"localhost:8080\""
   ]
  },
  {
   "cell_type": "code",
   "execution_count": 2,
   "id": "3f300ce7-4125-44f0-bb1f-468dce8c724a",
   "metadata": {},
   "outputs": [
    {
     "name": "stdout",
     "output_type": "stream",
     "text": [
      "tfserving-cifar10.cifar10.example.com\n"
     ]
    }
   ],
   "source": [
    "SERVICE_HOSTNAMES = !(kubectl get inferenceservice -n cifar10 tfserving-cifar10 -o jsonpath='{.status.url}' | cut -d \"/\" -f 3)\n",
    "SERVICE_HOSTNAME_CIFAR10 = SERVICE_HOSTNAMES[0]\n",
    "print(SERVICE_HOSTNAME_CIFAR10)"
   ]
  },
  {
   "cell_type": "code",
   "execution_count": 3,
   "id": "6540ad64-4855-4afd-ba54-2a3afc054288",
   "metadata": {},
   "outputs": [
    {
     "name": "stdout",
     "output_type": "stream",
     "text": [
      "drift-detector.cifar10.example.com\n"
     ]
    }
   ],
   "source": [
    "SERVICE_HOSTNAMES = !(kubectl get ksvc -n cifar10 drift-detector -o jsonpath='{.status.url}' | cut -d \"/\" -f 3)\n",
    "SERVICE_HOSTNAME_VAEOD = SERVICE_HOSTNAMES[0]\n",
    "print(SERVICE_HOSTNAME_VAEOD)"
   ]
  },
  {
   "cell_type": "markdown",
   "id": "0b2ee879-e1d6-453d-afb1-d8cba02b5450",
   "metadata": {},
   "source": [
    "### The below script get authentication from kubeflow dex and interfere with the knative serve"
   ]
  },
  {
   "cell_type": "code",
   "execution_count": 4,
   "id": "03399496-3025-423a-a5b8-74d484041ab4",
   "metadata": {},
   "outputs": [],
   "source": [
    "import requests\n",
    "def get_oauth2_auth_session(url: str, username: str, password: str) -> dict:\n",
    "    \"\"\"\n",
    "    Obtain a session cookie from Kubeflow using OAuth2 proxy authentication.\n",
    "    \n",
    "    This function works with Kubeflow deployments that use OAuth2 proxy instead of Dex directly.\n",
    "    It navigates to /oauth2/start endpoint and handles the authentication flow to obtain\n",
    "    the 'oauth2_proxy_kubeflow' cookie required for API access.\n",
    "    \n",
    "    :param url: Kubeflow server URL, including protocol\n",
    "    :param username: OAuth2 username (typically email)\n",
    "    :param password: OAuth2 password\n",
    "    :return: auth session information with oauth2_proxy_cookie\n",
    "    \"\"\"\n",
    "    # define the default return object\n",
    "    auth_session = {\n",
    "        \"endpoint_url\": url,  # KF endpoint URL\n",
    "        \"oauth2_start_url\": None,  # OAuth2 start URL\n",
    "        \"is_secured\": None,  # True if KF endpoint is secured\n",
    "        \"session_cookie\": None,  # Resulting session cookies in the form \"key1=value1; key2=value2\"\n",
    "        \"oauth2_proxy_cookie\": None,  # OAuth2 proxy session cookie\n",
    "    }\n",
    "\n",
    "    # use a persistent session (for cookies)\n",
    "    with requests.Session() as s:\n",
    "        ################\n",
    "        # Try OAuth2 Authentication\n",
    "        ################\n",
    "        \n",
    "        # First, try to access the OAuth2 start endpoint\n",
    "        oauth2_start_url = f\"{url.rstrip('/')}/oauth2/start\"\n",
    "        auth_session[\"oauth2_start_url\"] = oauth2_start_url\n",
    "        \n",
    "        # Start the OAuth2 flow\n",
    "        resp = s.get(oauth2_start_url, allow_redirects=True)\n",
    "        \n",
    "        if resp.status_code != 200:\n",
    "            raise RuntimeError(\n",
    "                f\"HTTP status code '{resp.status_code}' for GET against: {oauth2_start_url}\"\n",
    "            )\n",
    "\n",
    "        # Check if we're at a login page\n",
    "        if \"login\" in resp.url.lower() or \"sign\" in resp.url.lower():\n",
    "            auth_session[\"is_secured\"] = True\n",
    "            \n",
    "            # Try to find the login form and submit credentials\n",
    "            login_data = {\n",
    "                \"username\": username,\n",
    "                \"password\": password,\n",
    "                \"email\": username,  # Some OAuth2 setups use email field\n",
    "                \"login\": username,  # Some use login field\n",
    "            }\n",
    "            \n",
    "            login_resp = s.post(resp.url, data=login_data, allow_redirects=True)\n",
    "            \n",
    "            # Check if we got the OAuth2 proxy cookie\n",
    "            oauth2_cookie = s.cookies.get(\"oauth2_proxy_kubeflow\")\n",
    "            if oauth2_cookie:\n",
    "                auth_session[\"oauth2_proxy_cookie\"] = oauth2_cookie\n",
    "                auth_session[\"session_cookie\"] = \"; \".join(\n",
    "                    [f\"{c.name}={c.value}\" for c in s.cookies]\n",
    "                )\n",
    "            else:\n",
    "                available_cookies = [f\"{c.name}={c.value}\" for c in s.cookies]\n",
    "                raise RuntimeError(\n",
    "                    f\"Failed to obtain oauth2_proxy_kubeflow cookie. \"\n",
    "                    f\"Available cookies: {available_cookies}\"\n",
    "                )\n",
    "                \n",
    "        else:\n",
    "            auth_session[\"is_secured\"] = False\n",
    "\n",
    "    return auth_session"
   ]
  },
  {
   "cell_type": "code",
   "execution_count": 5,
   "id": "05cab7ce-a30e-42bb-90ba-955ed5a0aeaa",
   "metadata": {},
   "outputs": [],
   "source": [
    "# Configuration\n",
    "KUBEFLOW_ENDPOINT = \"http://localhost:8080\"   # Cluster IP and port\n",
    "KUBEFLOW_USERNAME = \"user@example.com\"\n",
    "KUBEFLOW_PASSWORD = \"12341234\"\n",
    "\n",
    "# Authenticate and get OAuth2 proxy session cookie\n",
    "_auth_session = get_oauth2_auth_session(\n",
    "    url=KUBEFLOW_ENDPOINT, username=KUBEFLOW_USERNAME, password=KUBEFLOW_PASSWORD\n",
    ")\n",
    "\n",
    "# Use the oauth2_proxy_kubeflow cookie for API requests\n",
    "cookies = {\"oauth2_proxy_kubeflow\": _auth_session['oauth2_proxy_cookie']}\n",
    "jar = requests.cookies.cookiejar_from_dict(cookies)\n",
    "# print(jar)\n"
   ]
  },
  {
   "cell_type": "code",
   "execution_count": 6,
   "id": "9483343b-649e-4f6a-b182-2aaaea93245e",
   "metadata": {},
   "outputs": [
    {
     "name": "stderr",
     "output_type": "stream",
     "text": [
      "2025-09-14 06:46:42.819042: I tensorflow/tsl/cuda/cudart_stub.cc:28] Could not find cuda drivers on your machine, GPU will not be used.\n",
      "2025-09-14 06:46:42.856488: E tensorflow/compiler/xla/stream_executor/cuda/cuda_dnn.cc:9342] Unable to register cuDNN factory: Attempting to register factory for plugin cuDNN when one has already been registered\n",
      "2025-09-14 06:46:42.856523: E tensorflow/compiler/xla/stream_executor/cuda/cuda_fft.cc:609] Unable to register cuFFT factory: Attempting to register factory for plugin cuFFT when one has already been registered\n",
      "2025-09-14 06:46:42.856559: E tensorflow/compiler/xla/stream_executor/cuda/cuda_blas.cc:1518] Unable to register cuBLAS factory: Attempting to register factory for plugin cuBLAS when one has already been registered\n",
      "2025-09-14 06:46:42.864058: I tensorflow/tsl/cuda/cudart_stub.cc:28] Could not find cuda drivers on your machine, GPU will not be used.\n",
      "2025-09-14 06:46:42.864505: I tensorflow/core/platform/cpu_feature_guard.cc:182] This TensorFlow binary is optimized to use available CPU instructions in performance-critical operations.\n",
      "To enable the following instructions: AVX2 FMA, in other operations, rebuild TensorFlow with the appropriate compiler flags.\n",
      "2025-09-14 06:46:43.645726: W tensorflow/compiler/tf2tensorrt/utils/py_utils.cc:38] TF-TRT Warning: Could not find TensorRT\n"
     ]
    },
    {
     "name": "stdout",
     "output_type": "stream",
     "text": [
      "Downloading data from https://www.cs.toronto.edu/~kriz/cifar-10-python.tar.gz\n",
      "170498071/170498071 [==============================] - 58s 0us/step\n",
      "(50000, 32, 32, 3) (50000, 1) (10000, 32, 32, 3) (10000, 1)\n"
     ]
    }
   ],
   "source": [
    "import matplotlib.pyplot as plt\n",
    "import numpy as np\n",
    "import requests\n",
    "import json\n",
    "import tensorflow as tf\n",
    "\n",
    "tf.keras.backend.clear_session()\n",
    "\n",
    "train, test = tf.keras.datasets.cifar10.load_data()\n",
    "X_train, y_train = train\n",
    "X_test, y_test = test\n",
    "\n",
    "X_train = X_train.astype(\"float32\") / 255\n",
    "X_test = X_test.astype(\"float32\") / 255\n",
    "print(X_train.shape, y_train.shape, X_test.shape, y_test.shape)\n",
    "classes = (\n",
    "    \"plane\",\n",
    "    \"car\",\n",
    "    \"bird\",\n",
    "    \"cat\",\n",
    "    \"deer\",\n",
    "    \"dog\",\n",
    "    \"frog\",\n",
    "    \"horse\",\n",
    "    \"ship\",\n",
    "    \"truck\",\n",
    ")\n",
    "\n",
    "\n",
    "def show(X):\n",
    "    plt.imshow(X.reshape(32, 32, 3))\n",
    "    plt.axis(\"off\")\n",
    "    plt.show()\n",
    "\n",
    "\n",
    "def predict(X):\n",
    "    formData = {\"instances\": X.tolist()}\n",
    "    res = requests.post(\n",
    "        \"http://\" + CLUSTER_IP + \"/v1/models/tfserving-cifar10:predict\",\n",
    "        json=formData,\n",
    "        cookies=jar,\n",
    "        # headers=headers,\n",
    "        headers={\"Host\": SERVICE_HOSTNAME_CIFAR10},\n",
    "    )\n",
    "    if res.status_code == 200:\n",
    "        j = res.json()\n",
    "        if len(j[\"predictions\"]) == 1:\n",
    "            return classes[np.array(j[\"predictions\"])[0].argmax()]\n",
    "    else:\n",
    "        print(\"Failed with \", res.status_code)\n",
    "        return []\n",
    "\n",
    "\n",
    "def drift(X):\n",
    "    formData = {\"instances\": X.tolist()}\n",
    "    headers = {\n",
    "        \"ce-namespace\": \"default\",\n",
    "        \"ce-modelid\": \"cifar10drift\",\n",
    "        \"ce-type\": \"io.seldon.serving.inference.request\",\n",
    "        \"ce-id\": \"1234\",\n",
    "        \"ce-source\": \"localhost\",\n",
    "        \"ce-specversion\": \"1.0\",\n",
    "    }\n",
    "    headers[\"Host\"] = SERVICE_HOSTNAME_VAEOD\n",
    "    res = requests.post(\n",
    "        \"http://\" + CLUSTER_IP + \"/\", \n",
    "        json=formData, \n",
    "        headers=headers,\n",
    "        cookies=jar,\n",
    "    )\n",
    "    if res.status_code == 200:\n",
    "        if res.text.strip():\n",
    "            try:\n",
    "                return res.json()\n",
    "            except ValueError:\n",
    "                print(\"Warning: Got 200 but response is not JSON:\", res.text)\n",
    "                return {}\n",
    "        else:\n",
    "            # print(\"Info: Got 200 but no response body (probably still buffering)\")\n",
    "            return {}\n",
    "    else:\n",
    "        print(f\"Failed with {res.status_code}: {res.text}\")\n",
    "        return {}"
   ]
  },
  {
   "cell_type": "code",
   "execution_count": 8,
   "id": "e4cc7a42-5b75-46d7-93f0-f6ebe4b334b5",
   "metadata": {},
   "outputs": [
    {
     "data": {
      "image/png": "[encoded data removed]",
      "text/plain": [
       "<Figure size 640x480 with 1 Axes>"
      ]
     },
     "metadata": {},
     "output_type": "display_data"
    },
    {
     "data": {
      "text/plain": [
       "'truck'"
      ]
     },
     "execution_count": 8,
     "metadata": {},
     "output_type": "execute_result"
    }
   ],
   "source": [
    "idx = 1\n",
    "X = X_train[idx : idx + 1]\n",
    "show(X)\n",
    "predict(X)"
   ]
  },
  {
   "cell_type": "code",
   "execution_count": 9,
   "id": "42da5570-1a74-4672-9f3b-a1ef69209f43",
   "metadata": {},
   "outputs": [],
   "source": [
    "# !kubectl logs -n cifar10 $(kubectl get pod -n cifar10 -l app=hello-display -o jsonpath='{.items[0].metadata.name}')"
   ]
  },
  {
   "cell_type": "code",
   "execution_count": 10,
   "id": "5fb425bb-368f-4d80-91ca-27bc8d278d3f",
   "metadata": {},
   "outputs": [
    {
     "name": "stderr",
     "output_type": "stream",
     "text": [
      "100%|██████████████████████████████████████████████████████████| 5/5 [00:47<00:00,  9.46s/it]\n"
     ]
    }
   ],
   "source": [
    "from tqdm import tqdm\n",
    "\n",
    "for i in tqdm(range(0, 5000, 1000)):\n",
    "    X = X_train[i : i + 1000]\n",
    "    drift(X)\n"
   ]
  },
  {
   "cell_type": "code",
   "execution_count": 11,
   "id": "0eccec58-34fc-4013-9b13-172e895b6956",
   "metadata": {},
   "outputs": [
    {
     "name": "stdout",
     "output_type": "stream",
     "text": [
      "Drift False\n"
     ]
    }
   ],
   "source": [
    "res = !kubectl logs -n cifar10 $(kubectl get pod -n cifar10 -l app=hello-display -o jsonpath='{.items[0].metadata.name}')\n",
    "data = []\n",
    "for i in range(0, len(res)):\n",
    "    if res[i] == \"Data,\":\n",
    "        data.append(res[i + 1])\n",
    "j = json.loads(json.loads(data[0]))\n",
    "print(\"Drift\", j[\"data\"][\"is_drift\"] == 1)"
   ]
  },
  {
   "cell_type": "markdown",
   "id": "9db2ba67-e5b7-4366-b362-ad56976ae9ad",
   "metadata": {},
   "source": [
    "### Now, let's create some CIFAR10 examples with motion blur."
   ]
  },
  {
   "cell_type": "code",
   "execution_count": 12,
   "id": "0976ccdc-e58c-4269-a32e-559350ac4139",
   "metadata": {},
   "outputs": [
    {
     "name": "stderr",
     "output_type": "stream",
     "text": [
      "/home/kamrul/miniconda3/envs/alibi-detect/lib/python3.11/site-packages/tqdm/auto.py:21: TqdmWarning: IProgress not found. Please update jupyter and ipywidgets. See https://ipywidgets.readthedocs.io/en/stable/user_install.html\n",
      "  from .autonotebook import tqdm as notebook_tqdm\n"
     ]
    }
   ],
   "source": [
    "from alibi_detect.datasets import fetch_cifar10c, corruption_types_cifar10c\n",
    "\n",
    "corruption = [\"motion_blur\"]\n",
    "X_corr, y_corr = fetch_cifar10c(corruption=corruption, severity=5, return_X_y=True)\n",
    "X_corr = X_corr.astype(\"float32\") / 255"
   ]
  },
  {
   "cell_type": "code",
   "execution_count": 13,
   "id": "222b1aff-4784-4755-8ba5-645378c60907",
   "metadata": {},
   "outputs": [
    {
     "data": {
      "image/png": "[encoded data removed]",
      "text/plain": [
       "<Figure size 640x480 with 1 Axes>"
      ]
     },
     "metadata": {},
     "output_type": "display_data"
    },
    {
     "data": {
      "image/png": "[encoded data removed]",
      "text/plain": [
       "<Figure size 640x480 with 1 Axes>"
      ]
     },
     "metadata": {},
     "output_type": "display_data"
    },
    {
     "data": {
      "image/png": "[encoded data removed]",
      "text/plain": [
       "<Figure size 640x480 with 1 Axes>"
      ]
     },
     "metadata": {},
     "output_type": "display_data"
    }
   ],
   "source": [
    "show(X_corr[0])\n",
    "show(X_corr[1])\n",
    "show(X_corr[2])"
   ]
  },
  {
   "cell_type": "code",
   "execution_count": 14,
   "id": "7df2e3b8-fa2a-4c9a-8b0d-29bc7c34f151",
   "metadata": {},
   "outputs": [
    {
     "name": "stderr",
     "output_type": "stream",
     "text": [
      "100%|████████████████████████████████████████████████████████| 50/50 [00:53<00:00,  1.06s/it]\n"
     ]
    }
   ],
   "source": [
    "for i in tqdm(range(0, 5000, 100)):\n",
    "    X = X_corr[i : i + 100]\n",
    "    drift(X)"
   ]
  },
  {
   "cell_type": "code",
   "execution_count": 15,
   "id": "3fa46629-378f-4e67-ae82-f2841e7cdf1d",
   "metadata": {},
   "outputs": [
    {
     "name": "stdout",
     "output_type": "stream",
     "text": [
      "Drift True\n"
     ]
    }
   ],
   "source": [
    "res = !kubectl logs -n cifar10 $(kubectl get pod -n cifar10 -l app=hello-display -o jsonpath='{.items[0].metadata.name}')\n",
    "data = []\n",
    "for i in range(0, len(res)):\n",
    "    if res[i] == \"Data,\":\n",
    "        data.append(res[i + 1])\n",
    "j = json.loads(json.loads(data[-1]))\n",
    "print(\"Drift\", j[\"data\"][\"is_drift\"] == 1)"
   ]
  },
  {
   "cell_type": "markdown",
   "id": "13d4b26c-7674-4cbc-99c7-36cc541efc7f",
   "metadata": {},
   "source": [
    "## Tear down"
   ]
  },
  {
   "cell_type": "code",
   "execution_count": null,
   "id": "d3a1109c-5bf0-4e3a-a8df-54b2884e5dea",
   "metadata": {},
   "outputs": [],
   "source": [
    "!kubectl delete ns cifar10"
   ]
  }
 ],
 "metadata": {
  "kernelspec": {
   "display_name": "alibi-detect",
   "language": "python",
   "name": "alibi-detect"
  },
  "language_info": {
   "codemirror_mode": {
    "name": "ipython",
    "version": 3
   },
   "file_extension": ".py",
   "mimetype": "text/x-python",
   "name": "python",
   "nbconvert_exporter": "python",
   "pygments_lexer": "ipython3",
   "version": "3.11.13"
  }
 },
 "nbformat": 4,
 "nbformat_minor": 5
}
