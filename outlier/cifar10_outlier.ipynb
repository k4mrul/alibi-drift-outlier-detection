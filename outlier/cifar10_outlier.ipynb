{
 "cells": [
  {
   "cell_type": "markdown",
   "metadata": {},
   "source": [
    "# CIFAR-10 Outlier Detection\n",
    "![demo](./demo.png)\n",
    "\n",
    "\n",
    "In this example, we will deploy an image classification model along with an outlier detector trained on the same dataset. For in depth details on creating an outlier detection model for your own dataset, check out the [Alibi Detect](https://github.com/SeldonIO/alibi-detect) project and its associated [documentation](https://docs.seldon.io/projects/alibi-detect/en/latest/). They also provide [documentation for this CIFAR10 sample](https://docs.seldon.io/projects/alibi-detect/en/latest/examples/od_vae_cifar10.html).\n",
    "\n",
    "\n",
    "Prequisites:\n",
    "\n",
    " * Running cluster with \n",
    "    * [KServe installed](https://github.com/kserve/kserve/blob/master/README.md#hammer_and_wrench-installation)\n",
    "    * [Knative Eventing installed](https://knative.dev/docs/install/yaml-install/eventing/install-eventing-with-yaml/#install-knative-eventing) >= 1.2\n",
    " \n"
   ]
  },
  {
   "cell_type": "code",
   "execution_count": null,
   "metadata": {
    "tags": []
   },
   "outputs": [],
   "source": [
    "!pip install -r ../requirements_notebook.txt"
   ]
  },
  {
   "cell_type": "markdown",
   "metadata": {},
   "source": [
    "## Setup Resources"
   ]
  },
  {
   "cell_type": "code",
   "execution_count": 2,
   "metadata": {
    "tags": []
   },
   "outputs": [
    {
     "name": "stdout",
     "output_type": "stream",
     "text": [
      "namespace/cifar10 created\n"
     ]
    }
   ],
   "source": [
    "!kubectl create namespace cifar10"
   ]
  },
  {
   "cell_type": "code",
   "execution_count": 3,
   "metadata": {
    "tags": []
   },
   "outputs": [
    {
     "name": "stdout",
     "output_type": "stream",
     "text": [
      "Overwriting broker.yaml\n"
     ]
    }
   ],
   "source": [
    "%%writefile 01.broker.yaml\n",
    "apiVersion: eventing.knative.dev/v1\n",
    "kind: Broker\n",
    "metadata:\n",
    " name: default\n",
    " namespace: cifar10"
   ]
  },
  {
   "cell_type": "code",
   "execution_count": 4,
   "metadata": {
    "tags": []
   },
   "outputs": [
    {
     "name": "stdout",
     "output_type": "stream",
     "text": [
      "broker.eventing.knative.dev/default created\n"
     ]
    }
   ],
   "source": [
    "!kubectl create -f 01.broker.yaml"
   ]
  },
  {
   "cell_type": "code",
   "execution_count": 5,
   "metadata": {
    "tags": []
   },
   "outputs": [
    {
     "name": "stdout",
     "output_type": "stream",
     "text": [
      "Overwriting event-display.yaml\n"
     ]
    }
   ],
   "source": [
    "%%writefile 02.event-display.yaml\n",
    "apiVersion: apps/v1\n",
    "kind: Deployment\n",
    "metadata:\n",
    "  name: hello-display\n",
    "  namespace: cifar10\n",
    "spec:\n",
    "  replicas: 1\n",
    "  selector:\n",
    "    matchLabels: &labels\n",
    "      app: hello-display\n",
    "  template:\n",
    "    metadata:\n",
    "      labels: *labels\n",
    "    spec:\n",
    "      containers:\n",
    "        - name: event-display\n",
    "          image: gcr.io/knative-releases/knative.dev/eventing-contrib/cmd/event_display\n",
    "\n",
    "---\n",
    "\n",
    "kind: Service\n",
    "apiVersion: v1\n",
    "metadata:\n",
    "  name: hello-display\n",
    "  namespace: cifar10\n",
    "spec:\n",
    "  selector:\n",
    "    app: hello-display\n",
    "  ports:\n",
    "  - protocol: TCP\n",
    "    port: 80\n",
    "    targetPort: 8080"
   ]
  },
  {
   "cell_type": "code",
   "execution_count": 6,
   "metadata": {
    "tags": []
   },
   "outputs": [
    {
     "name": "stdout",
     "output_type": "stream",
     "text": [
      "deployment.apps/hello-display created\n",
      "service/hello-display created\n"
     ]
    }
   ],
   "source": [
    "!kubectl apply -f 02.event-display.yaml"
   ]
  },
  {
   "cell_type": "markdown",
   "metadata": {},
   "source": [
    "Create the KServe image classification model for CIFAR10. We include a `logger` for requests."
   ]
  },
  {
   "cell_type": "code",
   "execution_count": 7,
   "metadata": {
    "tags": []
   },
   "outputs": [
    {
     "name": "stdout",
     "output_type": "stream",
     "text": [
      "Overwriting cifar10.yaml\n"
     ]
    }
   ],
   "source": [
    "%%writefile 03.cifar10.yaml\n",
    "apiVersion: \"serving.kserve.io/v1beta1\"\n",
    "kind: \"InferenceService\"\n",
    "metadata:\n",
    "  name: \"tfserving-cifar10\"\n",
    "  namespace: cifar10\n",
    "spec:\n",
    "    predictor:\n",
    "      tensorflow:\n",
    "        storageUri: \"gs://seldon-models/tfserving/cifar10/resnet32\"\n",
    "      logger:\n",
    "        mode: all\n",
    "        url: http://broker-ingress.knative-eventing.svc.cluster.local/cifar10/default"
   ]
  },
  {
   "cell_type": "code",
   "execution_count": 8,
   "metadata": {
    "tags": []
   },
   "outputs": [
    {
     "name": "stdout",
     "output_type": "stream",
     "text": [
      "inferenceservice.serving.kserve.io/tfserving-cifar10 created\n"
     ]
    }
   ],
   "source": [
    "!kubectl apply -f 03.cifar10.yaml"
   ]
  },
  {
   "cell_type": "markdown",
   "metadata": {},
   "source": [
    "Create the pretrained VAE Cifar10 Outlier Detector. We forward replies to the event-display we started."
   ]
  },
  {
   "cell_type": "code",
   "execution_count": 4,
   "metadata": {
    "tags": []
   },
   "outputs": [
    {
     "name": "stdout",
     "output_type": "stream",
     "text": [
      "Writing 04.cifar10od.yaml\n"
     ]
    }
   ],
   "source": [
    "%%writefile 04.cifar10od.yaml\n",
    "apiVersion: serving.knative.dev/v1\n",
    "kind: Service\n",
    "metadata:\n",
    "  name: vae-outlier\n",
    "  namespace: cifar10\n",
    "spec:\n",
    "  template:\n",
    "    metadata:\n",
    "      annotations:\n",
    "        autoscaling.knative.dev/minScale: \"1\"\n",
    "    spec:\n",
    "      containers:\n",
    "      - image: seldonio/alibi-detect-server:1.12.0\n",
    "        imagePullPolicy: IfNotPresent\n",
    "        args:\n",
    "        - --model_name\n",
    "        - cifar10od\n",
    "        - --http_port\n",
    "        - '8080'\n",
    "        - --protocol\n",
    "        - tensorflow.http\n",
    "        - --storage_uri\n",
    "        - gs://seldon-models/alibi-detect/od/OutlierVAE/cifar10\n",
    "        - --reply_url\n",
    "        - http://hello-display.cifar10\n",
    "        - --event_type\n",
    "        - org.kubeflow.serving.inference.outlier\n",
    "        - --event_source\n",
    "        - org.kubeflow.serving.cifar10od\n",
    "        - OutlierDetector"
   ]
  },
  {
   "cell_type": "code",
   "execution_count": 5,
   "metadata": {
    "tags": []
   },
   "outputs": [
    {
     "name": "stdout",
     "output_type": "stream",
     "text": [
      "\u001b[33;1mWarning:\u001b[0m Kubernetes default value is insecure, Knative may default this to secure in a future release: spec.template.spec.containers[0].securityContext.allowPrivilegeEscalation, spec.template.spec.containers[0].securityContext.capabilities, spec.template.spec.containers[0].securityContext.runAsNonRoot, spec.template.spec.containers[0].securityContext.seccompProfile\n",
      "service.serving.knative.dev/vae-outlier created\n"
     ]
    }
   ],
   "source": [
    "!kubectl apply -f 04.cifar10od.yaml"
   ]
  },
  {
   "cell_type": "markdown",
   "metadata": {},
   "source": [
    "Create a Knative trigger to forward logging events to our Outlier Detector."
   ]
  },
  {
   "cell_type": "code",
   "execution_count": 6,
   "metadata": {
    "tags": []
   },
   "outputs": [
    {
     "name": "stdout",
     "output_type": "stream",
     "text": [
      "Writing 05.trigger.yaml\n"
     ]
    }
   ],
   "source": [
    "%%writefile 05.triggerod.yaml\n",
    "apiVersion: eventing.knative.dev/v1\n",
    "kind: Trigger\n",
    "metadata:\n",
    "  name: vaeoutlier-trigger\n",
    "  namespace: cifar10\n",
    "spec:\n",
    "  broker: default\n",
    "  filter:\n",
    "    attributes:\n",
    "      type: org.kubeflow.serving.inference.request\n",
    "  subscriber:\n",
    "    ref:\n",
    "      apiVersion: serving.knative.dev/v1\n",
    "      kind: Service\n",
    "      name: vae-outlier\n",
    "      namespace: cifar10"
   ]
  },
  {
   "cell_type": "code",
   "execution_count": 7,
   "metadata": {
    "tags": []
   },
   "outputs": [
    {
     "name": "stdout",
     "output_type": "stream",
     "text": [
      "trigger.eventing.knative.dev/vaeoutlier-trigger created\n"
     ]
    }
   ],
   "source": [
    "!kubectl apply -f 05.triggerod.yaml"
   ]
  },
  {
   "cell_type": "markdown",
   "metadata": {},
   "source": [
    "Get the IP address of the Istio Ingress Gateway. _This assumes you have installed Istio with a LoadBalancer._"
   ]
  },
  {
   "cell_type": "code",
   "execution_count": 8,
   "metadata": {
    "tags": []
   },
   "outputs": [],
   "source": [
    "CLUSTER_IP = \"localhost:8080\""
   ]
  },
  {
   "cell_type": "code",
   "execution_count": 9,
   "metadata": {
    "tags": []
   },
   "outputs": [
    {
     "name": "stdout",
     "output_type": "stream",
     "text": [
      "tfserving-cifar10.cifar10.example.com\n"
     ]
    }
   ],
   "source": [
    "SERVICE_HOSTNAMES = !(kubectl get inferenceservice -n cifar10 tfserving-cifar10 -o jsonpath='{.status.url}' | cut -d \"/\" -f 3)\n",
    "SERVICE_HOSTNAME_CIFAR10 = SERVICE_HOSTNAMES[0]\n",
    "print(SERVICE_HOSTNAME_CIFAR10)"
   ]
  },
  {
   "cell_type": "code",
   "execution_count": 10,
   "metadata": {
    "tags": []
   },
   "outputs": [
    {
     "name": "stdout",
     "output_type": "stream",
     "text": [
      "vae-outlier.cifar10.example.com\n"
     ]
    }
   ],
   "source": [
    "SERVICE_HOSTNAMES = !(kubectl get ksvc -n cifar10 vae-outlier -o jsonpath='{.status.url}' | cut -d \"/\" -f 3)\n",
    "SERVICE_HOSTNAME_VAEOD = SERVICE_HOSTNAMES[0]\n",
    "print(SERVICE_HOSTNAME_VAEOD)"
   ]
  },
  {
   "cell_type": "markdown",
   "metadata": {},
   "source": [
    "### The below script get authentication from kubeflow dex and interfere with the knative serve"
   ]
  },
  {
   "cell_type": "code",
   "execution_count": 13,
   "metadata": {},
   "outputs": [],
   "source": [
    "import requests\n",
    "def get_oauth2_auth_session(url: str, username: str, password: str) -> dict:\n",
    "    \"\"\"\n",
    "    Obtain a session cookie from Kubeflow using OAuth2 proxy authentication.\n",
    "    \n",
    "    This function works with Kubeflow deployments that use OAuth2 proxy instead of Dex directly.\n",
    "    It navigates to /oauth2/start endpoint and handles the authentication flow to obtain\n",
    "    the 'oauth2_proxy_kubeflow' cookie required for API access.\n",
    "    \n",
    "    :param url: Kubeflow server URL, including protocol\n",
    "    :param username: OAuth2 username (typically email)\n",
    "    :param password: OAuth2 password\n",
    "    :return: auth session information with oauth2_proxy_cookie\n",
    "    \"\"\"\n",
    "    # define the default return object\n",
    "    auth_session = {\n",
    "        \"endpoint_url\": url,  # KF endpoint URL\n",
    "        \"oauth2_start_url\": None,  # OAuth2 start URL\n",
    "        \"is_secured\": None,  # True if KF endpoint is secured\n",
    "        \"session_cookie\": None,  # Resulting session cookies in the form \"key1=value1; key2=value2\"\n",
    "        \"oauth2_proxy_cookie\": None,  # OAuth2 proxy session cookie\n",
    "    }\n",
    "\n",
    "    # use a persistent session (for cookies)\n",
    "    with requests.Session() as s:\n",
    "        ################\n",
    "        # Try OAuth2 Authentication\n",
    "        ################\n",
    "        \n",
    "        # First, try to access the OAuth2 start endpoint\n",
    "        oauth2_start_url = f\"{url.rstrip('/')}/oauth2/start\"\n",
    "        auth_session[\"oauth2_start_url\"] = oauth2_start_url\n",
    "        \n",
    "        # Start the OAuth2 flow\n",
    "        resp = s.get(oauth2_start_url, allow_redirects=True)\n",
    "        \n",
    "        if resp.status_code != 200:\n",
    "            raise RuntimeError(\n",
    "                f\"HTTP status code '{resp.status_code}' for GET against: {oauth2_start_url}\"\n",
    "            )\n",
    "\n",
    "        # Check if we're at a login page\n",
    "        if \"login\" in resp.url.lower() or \"sign\" in resp.url.lower():\n",
    "            auth_session[\"is_secured\"] = True\n",
    "            \n",
    "            # Try to find the login form and submit credentials\n",
    "            login_data = {\n",
    "                \"username\": username,\n",
    "                \"password\": password,\n",
    "                \"email\": username,  # Some OAuth2 setups use email field\n",
    "                \"login\": username,  # Some use login field\n",
    "            }\n",
    "            \n",
    "            login_resp = s.post(resp.url, data=login_data, allow_redirects=True)\n",
    "            \n",
    "            # Check if we got the OAuth2 proxy cookie\n",
    "            oauth2_cookie = s.cookies.get(\"oauth2_proxy_kubeflow\")\n",
    "            if oauth2_cookie:\n",
    "                auth_session[\"oauth2_proxy_cookie\"] = oauth2_cookie\n",
    "                auth_session[\"session_cookie\"] = \"; \".join(\n",
    "                    [f\"{c.name}={c.value}\" for c in s.cookies]\n",
    "                )\n",
    "            else:\n",
    "                available_cookies = [f\"{c.name}={c.value}\" for c in s.cookies]\n",
    "                raise RuntimeError(\n",
    "                    f\"Failed to obtain oauth2_proxy_kubeflow cookie. \"\n",
    "                    f\"Available cookies: {available_cookies}\"\n",
    "                )\n",
    "                \n",
    "        else:\n",
    "            auth_session[\"is_secured\"] = False\n",
    "\n",
    "    return auth_session"
   ]
  },
  {
   "cell_type": "code",
   "execution_count": 14,
   "metadata": {},
   "outputs": [],
   "source": [
    "# Configuration\n",
    "KUBEFLOW_ENDPOINT = \"http://localhost:8080\"   # Cluster IP and port\n",
    "KUBEFLOW_USERNAME = \"user@example.com\"\n",
    "KUBEFLOW_PASSWORD = \"12341234\"\n",
    "\n",
    "# Authenticate and get OAuth2 proxy session cookie\n",
    "_auth_session = get_oauth2_auth_session(\n",
    "    url=KUBEFLOW_ENDPOINT, username=KUBEFLOW_USERNAME, password=KUBEFLOW_PASSWORD\n",
    ")\n",
    "\n",
    "# Use the oauth2_proxy_kubeflow cookie for API requests\n",
    "cookies = {\"oauth2_proxy_kubeflow\": _auth_session['oauth2_proxy_cookie']}\n",
    "jar = requests.cookies.cookiejar_from_dict(cookies)\n",
    "# print(jar)\n"
   ]
  },
  {
   "cell_type": "code",
   "execution_count": 21,
   "metadata": {
    "tags": []
   },
   "outputs": [
    {
     "name": "stdout",
     "output_type": "stream",
     "text": [
      "(50000, 32, 32, 3) (50000, 1) (10000, 32, 32, 3) (10000, 1)\n"
     ]
    }
   ],
   "source": [
    "import matplotlib.pyplot as plt\n",
    "import numpy as np\n",
    "import json\n",
    "import tensorflow as tf\n",
    "\n",
    "tf.keras.backend.clear_session()\n",
    "\n",
    "from alibi_detect.od.vae import OutlierVAE\n",
    "from alibi_detect.utils.perturbation import apply_mask\n",
    "from alibi_detect.utils.visualize import plot_feature_outlier_image\n",
    "import requests\n",
    "\n",
    "train, test = tf.keras.datasets.cifar10.load_data()\n",
    "X_train, y_train = train\n",
    "X_test, y_test = test\n",
    "\n",
    "X_train = X_train.astype(\"float32\") / 255\n",
    "X_test = X_test.astype(\"float32\") / 255\n",
    "print(X_train.shape, y_train.shape, X_test.shape, y_test.shape)\n",
    "classes = (\n",
    "    \"plane\",\n",
    "    \"car\",\n",
    "    \"bird\",\n",
    "    \"cat\",\n",
    "    \"deer\",\n",
    "    \"dog\",\n",
    "    \"frog\",\n",
    "    \"horse\",\n",
    "    \"ship\",\n",
    "    \"truck\",\n",
    ")\n",
    "\n",
    "\n",
    "def show(X):\n",
    "    plt.imshow(X.reshape(32, 32, 3))\n",
    "    plt.axis(\"off\")\n",
    "    plt.show()\n",
    "\n",
    "\n",
    "def predict(X):\n",
    "    formData = {\"instances\": X.tolist()}\n",
    "    res = requests.post(\n",
    "        \"http://\" + CLUSTER_IP + \"/v1/models/tfserving-cifar10:predict\",\n",
    "        json=formData,\n",
    "        cookies=jar,        \n",
    "        headers={\"Host\": SERVICE_HOSTNAME_CIFAR10},\n",
    "    )\n",
    "    if res.status_code == 200:\n",
    "        return classes[np.array(res.json()[\"predictions\"])[0].argmax()]\n",
    "    else:\n",
    "        print(\"Failed with \", res.status_code)\n",
    "        return []\n",
    "\n",
    "\n",
    "def outlier(X):\n",
    "    formData = {\"instances\": X.tolist()}\n",
    "    headers = {\n",
    "        \"Alibi-Detect-Return-Feature-Score\": \"true\",\n",
    "        \"Alibi-Detect-Return-Instance-Score\": \"true\",\n",
    "        \"ce-namespace\": \"default\",\n",
    "        \"ce-modelid\": \"cifar10\",\n",
    "        \"ce-type\": \"io.seldon.serving.inference.request\",\n",
    "        \"ce-id\": \"1234\",\n",
    "        \"ce-source\": \"localhost\",\n",
    "        \"ce-specversion\": \"1.0\",\n",
    "    }\n",
    "    headers[\"Host\"] = SERVICE_HOSTNAME_VAEOD\n",
    "    res = requests.post(\n",
    "        \"http://\" + CLUSTER_IP + \"/\", \n",
    "        json=formData, \n",
    "        headers=headers,\n",
    "        cookies=jar,\n",
    "    )\n",
    "    if res.status_code == 200:\n",
    "        if res.text.strip():\n",
    "            try:\n",
    "                od = res.json()\n",
    "                od[\"data\"][\"feature_score\"] = np.array(od[\"data\"][\"feature_score\"])\n",
    "                od[\"data\"][\"instance_score\"] = np.array(od[\"data\"][\"instance_score\"])\n",
    "                return od\n",
    "            except ValueError:\n",
    "                print(\"Warning: Got 200 but response is not JSON:\", res.text)\n",
    "                return {}\n",
    "        else:\n",
    "            # print(\"Info: Got 200 but no response body (probably still buffering)\")\n",
    "            return {}\n",
    "\n",
    "    else:\n",
    "        print(\"Failed with \", res.status_code)\n",
    "        return []"
   ]
  },
  {
   "cell_type": "markdown",
   "metadata": {},
   "source": [
    "## Normal Prediction"
   ]
  },
  {
   "cell_type": "code",
   "execution_count": 22,
   "metadata": {
    "tags": []
   },
   "outputs": [
    {
     "data": {
      "image/png": "[encoded data removed]",
      "text/plain": [
       "<Figure size 640x480 with 1 Axes>"
      ]
     },
     "metadata": {},
     "output_type": "display_data"
    },
    {
     "data": {
      "text/plain": [
       "'truck'"
      ]
     },
     "execution_count": 22,
     "metadata": {},
     "output_type": "execute_result"
    }
   ],
   "source": [
    "idx = 1\n",
    "X = X_train[idx : idx + 1]\n",
    "show(X)\n",
    "predict(X)"
   ]
  },
  {
   "cell_type": "markdown",
   "metadata": {},
   "source": [
    "We will now call our outlier detector directly."
   ]
  },
  {
   "cell_type": "code",
   "execution_count": 23,
   "metadata": {
    "tags": []
   },
   "outputs": [],
   "source": [
    "od_preds = outlier(X)"
   ]
  },
  {
   "cell_type": "markdown",
   "metadata": {},
   "source": [
    "After a few seconds, we can check the event display for an outlier detection prediction. This should be false."
   ]
  },
  {
   "cell_type": "code",
   "execution_count": 24,
   "metadata": {
    "tags": []
   },
   "outputs": [
    {
     "name": "stdout",
     "output_type": "stream",
     "text": [
      "Outlier False\n"
     ]
    }
   ],
   "source": [
    "res = !kubectl logs -n cifar10 $(kubectl get pod -n cifar10 -l app=hello-display -o jsonpath='{.items[0].metadata.name}')\n",
    "data = []\n",
    "for i in range(0, len(res)):\n",
    "    if res[i] == \"Data,\":\n",
    "        data.append(res[i + 1])\n",
    "j = json.loads(json.loads(data[-1]))\n",
    "print(\"Outlier\", j[\"data\"][\"is_outlier\"] == [1])"
   ]
  },
  {
   "cell_type": "markdown",
   "metadata": {},
   "source": [
    "## Outlier Prediction"
   ]
  },
  {
   "cell_type": "code",
   "execution_count": 25,
   "metadata": {
    "tags": []
   },
   "outputs": [],
   "source": [
    "np.random.seed(0)\n",
    "X_mask, mask = apply_mask(\n",
    "    X.reshape(1, 32, 32, 3),\n",
    "    mask_size=(10, 10),\n",
    "    n_masks=1,\n",
    "    channels=[0, 1, 2],\n",
    "    mask_type=\"normal\",\n",
    "    noise_distr=(0, 1),\n",
    "    clip_rng=(0, 1),\n",
    ")"
   ]
  },
  {
   "cell_type": "code",
   "execution_count": 26,
   "metadata": {
    "tags": []
   },
   "outputs": [
    {
     "data": {
      "image/png": "[encoded data removed]",
      "text/plain": [
       "<Figure size 640x480 with 1 Axes>"
      ]
     },
     "metadata": {},
     "output_type": "display_data"
    },
    {
     "data": {
      "text/plain": [
       "'truck'"
      ]
     },
     "execution_count": 26,
     "metadata": {},
     "output_type": "execute_result"
    }
   ],
   "source": [
    "show(X_mask)\n",
    "predict(X_mask)"
   ]
  },
  {
   "cell_type": "markdown",
   "metadata": {},
   "source": [
    "We will now call our outlier detector directly and use the feature scores returned to gather more information about why it predicted an outlier below."
   ]
  },
  {
   "cell_type": "code",
   "execution_count": 27,
   "metadata": {
    "tags": []
   },
   "outputs": [],
   "source": [
    "od_preds = outlier(X_mask)"
   ]
  },
  {
   "cell_type": "markdown",
   "metadata": {},
   "source": [
    "First, we'll confirm that an outlier was found by checking the event display for a new message."
   ]
  },
  {
   "cell_type": "code",
   "execution_count": 28,
   "metadata": {
    "tags": []
   },
   "outputs": [
    {
     "name": "stdout",
     "output_type": "stream",
     "text": [
      "Outlier True\n"
     ]
    }
   ],
   "source": [
    "res = !kubectl logs -n cifar10 $(kubectl get pod -n cifar10 -l app=hello-display -o jsonpath='{.items[0].metadata.name}')\n",
    "data = []\n",
    "for i in range(0, len(res)):\n",
    "    if res[i] == \"Data,\":\n",
    "        data.append(res[i + 1])\n",
    "j = json.loads(json.loads(data[-1]))\n",
    "print(\"Outlier\", j[\"data\"][\"is_outlier\"] == [1])"
   ]
  },
  {
   "cell_type": "markdown",
   "metadata": {},
   "source": [
    "Now we'll plot the feature scores returned by the outlier detector along with the original image."
   ]
  },
  {
   "cell_type": "code",
   "execution_count": 29,
   "metadata": {
    "tags": []
   },
   "outputs": [
    {
     "data": {
      "image/png": "[encoded data removed]",
      "text/plain": [
       "<Figure size 2000x2000 with 4 Axes>"
      ]
     },
     "metadata": {},
     "output_type": "display_data"
    }
   ],
   "source": [
    "plot_feature_outlier_image(od_preds, X_mask, X_recon=None)"
   ]
  },
  {
   "cell_type": "markdown",
   "metadata": {},
   "source": [
    "## Tear Down"
   ]
  },
  {
   "cell_type": "code",
   "execution_count": null,
   "metadata": {},
   "outputs": [],
   "source": [
    "!kubectl delete ns cifar10"
   ]
  }
 ],
 "metadata": {
  "kernelspec": {
   "display_name": "alibi-detect",
   "language": "python",
   "name": "alibi-detect"
  },
  "language_info": {
   "codemirror_mode": {
    "name": "ipython",
    "version": 3
   },
   "file_extension": ".py",
   "mimetype": "text/x-python",
   "name": "python",
   "nbconvert_exporter": "python",
   "pygments_lexer": "ipython3",
   "version": "3.11.13"
  },
  "vscode": {
   "interpreter": {
    "hash": "8a5edab282632443219e051e4ade2d1d5bbc671c781051bf1437897cbdfea0f1"
   }
  }
 },
 "nbformat": 4,
 "nbformat_minor": 4
}
